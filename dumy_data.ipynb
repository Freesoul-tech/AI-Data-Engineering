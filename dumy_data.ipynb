{
  "nbformat": 4,
  "nbformat_minor": 0,
  "metadata": {
    "colab": {
      "provenance": [],
      "authorship_tag": "ABX9TyPxjCuPvnH7iH+cXVeEWul2",
      "include_colab_link": true
    },
    "kernelspec": {
      "name": "python3",
      "display_name": "Python 3"
    },
    "language_info": {
      "name": "python"
    }
  },
  "cells": [
    {
      "cell_type": "markdown",
      "metadata": {
        "id": "view-in-github",
        "colab_type": "text"
      },
      "source": [
        "<a href=\"https://colab.research.google.com/github/Freesoul-tech/AI-Data-Engineering/blob/main/dumy_data.ipynb\" target=\"_parent\"><img src=\"https://colab.research.google.com/assets/colab-badge.svg\" alt=\"Open In Colab\"/></a>"
      ]
    },
    {
      "cell_type": "code",
      "execution_count": 9,
      "metadata": {
        "colab": {
          "base_uri": "https://localhost:8080/"
        },
        "id": "_OW4WveKGJU-",
        "outputId": "af286b34-e24c-49c5-fa0e-794eab3df997"
      },
      "outputs": [
        {
          "output_type": "stream",
          "name": "stdout",
          "text": [
            "[[  6  29 -20]\n",
            " [ 12  52  38]\n",
            " [-18 -51 -48]]\n",
            "[[  6  29 -20]\n",
            " [ 12  52  38]\n",
            " [-18 -51 -48]]\n",
            "[[  6  29 -20]\n",
            " [ 12  52  38]\n",
            " [-18 -51 -48]]\n",
            "6\n",
            "[[6, 29, -20], [12, 52, 38], [-18, -51, -48]]\n",
            "Matrix multiplication is not defined for the given matrices.\n",
            "None\n",
            "[[14, 4], [4, 77]]\n"
          ]
        }
      ],
      "source": [
        "  # A=([[-1, 2,3],[4, -5, 6],[7,8,-9]])\n",
        "  # B=([[0,2,1],[0,2,-8],[2,9,-1]])\n",
        "  # C= A*B\n",
        "\n",
        "  # C= [[6 ,29, -20], [8, 64, -44], [-18, 20, 102]]\n",
        "\n",
        "import numpy as np\n",
        "\n",
        "A = np.array([[-1, 2, 3], [4, -5, 6], [7, 8, -9]])\n",
        "B = np.array([[0, 2, 1], [0, 2, -8], [2, 9, -1]])\n",
        "\n",
        "C1 = np.matmul(A, B)\n",
        "C2 = np.dot(A, B)\n",
        "\n",
        "C3 = A @ B\n",
        "\n",
        "print(C1)\n",
        "print(C2)\n",
        "print(C3)\n",
        "a_ndarray = np.array([[-1, 2, 3], [4, -5, 6], [7, 8, -9]])\n",
        "b_ndarray = np.array([[0, 2, 1], [0, 2, -8], [2, 9, -1]])\n",
        "\n",
        "c00 = a_ndarray[0, 0] * b_ndarray[0, 0] + a_ndarray[0, 1] * b_ndarray[1, 0] + a_ndarray[0, 2] * b_ndarray[2, 0]\n",
        "print(c00)\n",
        "\n",
        "def matrix_product(A, B):\n",
        "    result = [[0 for _ in range(len(B[0]))] for _ in range(len(A))]\n",
        "    for i in range(len(A)):\n",
        "        for j in range(len(B[0])):\n",
        "            for k in range(len(B)):\n",
        "                result[i][j] += A[i][k] * B[k][j]\n",
        "    return result\n",
        "\n",
        "A = [[-1, 2, 3], [4, -5, 6], [7, 8, -9]]\n",
        "B = [[0, 2, 1], [0, 2, -8], [2, 9, -1]]\n",
        "\n",
        "C = matrix_product(A, B)\n",
        "print(C)\n",
        "\n",
        "def matrix_product_with_check(A, B):\n",
        "    if len(A[0]) != len(B):\n",
        "        print(\"Matrix multiplication is not defined for the given matrices.\")\n",
        "        return None\n",
        "    result = [[0 for _ in range(len(B[0]))] for _ in range(len(A))]\n",
        "    for i in range(len(A)):\n",
        "        for j in range(len(B[0])):\n",
        "            for k in range(len(B)):\n",
        "                result[i][j] += A[i][k] * B[k][j]\n",
        "    return result\n",
        "\n",
        "D = [[-1, 2, 3], [4, -5, 6]]\n",
        "E = [[-9, 8, 7], [6, -5, 4]]\n",
        "\n",
        "C = matrix_product_with_check(D, E)\n",
        "print(C)\n",
        "D_T = np.transpose(D)\n",
        "C = matrix_product_with_check(D, D_T)\n",
        "print(C)\n",
        "\n"
      ]
    },
    {
      "cell_type": "code",
      "source": [],
      "metadata": {
        "id": "HrPcTgNdICe7"
      },
      "execution_count": null,
      "outputs": []
    }
  ]
}